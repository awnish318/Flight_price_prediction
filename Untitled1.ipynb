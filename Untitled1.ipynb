{
 "cells": [
  {
   "cell_type": "code",
   "execution_count": 13,
   "id": "0e50f4ee-04f8-4d8d-9ece-79a44b8e0207",
   "metadata": {},
   "outputs": [
    {
     "name": "stdout",
     "output_type": "stream",
     "text": [
      "[2, 1, 1]\n"
     ]
    }
   ],
   "source": [
    "def getNumPoints(n, layers, energy, k):\n",
    "    points = []\n",
    "\n",
    "    for i in range(n):\n",
    "        remaining_energy = k\n",
    "        j = i\n",
    "        level_points = 0\n",
    "\n",
    "        while j < n and remaining_energy >= layers[j]:\n",
    "            remaining_energy -= layers[j]\n",
    "            level_points += 1\n",
    "            j += 1\n",
    "\n",
    "        points.append(level_points)\n",
    "\n",
    "    return points\n",
    "\n",
    "# Example usage\n",
    "n = 3\n",
    "layers = [2, 2, 5]\n",
    "energy = [2, 3, 1]\n",
    "k = 5\n",
    "\n",
    "result = getNumPoints(n, layers, energy, k)\n",
    "print(result)\n"
   ]
  },
  {
   "cell_type": "code",
   "execution_count": null,
   "id": "d390bfe1-614e-44c2-a76c-493339b50435",
   "metadata": {},
   "outputs": [],
   "source": []
  }
 ],
 "metadata": {
  "kernelspec": {
   "display_name": "Python 3 (ipykernel)",
   "language": "python",
   "name": "python3"
  },
  "language_info": {
   "codemirror_mode": {
    "name": "ipython",
    "version": 3
   },
   "file_extension": ".py",
   "mimetype": "text/x-python",
   "name": "python",
   "nbconvert_exporter": "python",
   "pygments_lexer": "ipython3",
   "version": "3.11.4"
  }
 },
 "nbformat": 4,
 "nbformat_minor": 5
}
